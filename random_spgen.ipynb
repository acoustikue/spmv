{
 "cells": [
  {
   "cell_type": "code",
   "execution_count": null,
   "metadata": {},
   "outputs": [],
   "source": [
    "from scipy.sparse import random\n",
    "from scipy import stats\n",
    "import scipy.io\n",
    "import numpy as np\n",
    "\n",
    "mat_size = 16384\n",
    "\n",
    "class CustomRandomState(np.random.RandomState):\n",
    "    def randint(self, k):\n",
    "        i = np.random.randint(k)\n",
    "        return i - i % 2\n",
    "\n",
    "# Generate\n",
    "np.random.seed(1)\n",
    "rs = CustomRandomState()\n",
    "\n",
    "# Samples a requested number of random values.\n",
    "rvs = stats.poisson(10, loc=10).rvs\n",
    "S = random(mat_size, mat_size, density=0.2, random_state=rs, data_rvs=rvs)\n",
    "\n",
    "# Export\n",
    "scipy.io.mmwrite(\"16384_16384_sample_mat.mtx\", S)\n",
    "\n",
    "S.A"
   ]
  },
  {
   "cell_type": "code",
   "execution_count": 2,
   "metadata": {},
   "outputs": [
    {
     "data": {
      "text/plain": [
       "array([[ 0.,  0.,  0.,  0.,  0., 18.,  0., 15.,  0., 21.],\n",
       "       [ 0.,  0.,  0.,  0., 19.,  0.,  0.,  0.,  0.,  0.],\n",
       "       [ 0., 17., 18., 15., 19.,  0.,  0.,  0.,  0.,  0.],\n",
       "       [ 0.,  0., 16.,  0.,  0.,  0.,  0.,  0.,  0.,  0.],\n",
       "       [ 0.,  0.,  0.,  0.,  0.,  0.,  0.,  0.,  0.,  0.],\n",
       "       [ 0.,  0.,  0.,  0.,  0.,  0.,  0.,  0., 20.,  0.],\n",
       "       [28.,  0.,  0.,  0., 16., 18.,  0.,  0., 19.,  0.],\n",
       "       [ 0.,  0., 22.,  0.,  0.,  0.,  0.,  0., 21.,  0.],\n",
       "       [17., 15.,  0.,  0.,  0.,  0.,  0., 19.,  0.,  0.],\n",
       "       [25.,  0.,  0.,  0.,  0.,  0.,  0.,  0.,  0.,  0.]])"
      ]
     },
     "execution_count": 2,
     "metadata": {},
     "output_type": "execute_result"
    }
   ],
   "source": [
    "R = scipy.io.mmread(\"10_10_sample_mat.mtx\")\n",
    "R.toarray()"
   ]
  },
  {
   "cell_type": "code",
   "execution_count": null,
   "metadata": {},
   "outputs": [],
   "source": []
  }
 ],
 "metadata": {
  "kernelspec": {
   "display_name": "Python 3",
   "language": "python",
   "name": "python3"
  },
  "language_info": {
   "codemirror_mode": {
    "name": "ipython",
    "version": 3
   },
   "file_extension": ".py",
   "mimetype": "text/x-python",
   "name": "python",
   "nbconvert_exporter": "python",
   "pygments_lexer": "ipython3",
   "version": "3.8.3"
  }
 },
 "nbformat": 4,
 "nbformat_minor": 4
}
